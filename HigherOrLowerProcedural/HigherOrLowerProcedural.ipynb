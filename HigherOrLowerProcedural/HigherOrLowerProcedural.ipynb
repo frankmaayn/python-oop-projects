{
 "cells": [
  {
   "cell_type": "code",
   "execution_count": 1,
   "metadata": {},
   "outputs": [],
   "source": [
    "import random"
   ]
  },
  {
   "cell_type": "code",
   "execution_count": 3,
   "metadata": {},
   "outputs": [
    {
     "name": "stdout",
     "output_type": "stream",
     "text": [
      "Welcome to Higher or Lower\n",
      "You have to choose whether the next card to be shown will be hgiher or lower than the current card.\n",
      "Getting ir right adds 20 points; get it wrong and you lose 15 points.\n",
      "You have 50 points to start.\n",
      "\n",
      "[{'rank': 'Ace', 'suit': 'Spades', 'value': 1}, {'rank': '2', 'suit': 'Spades', 'value': 2}, {'rank': '3', 'suit': 'Spades', 'value': 3}, {'rank': '4', 'suit': 'Spades', 'value': 4}, {'rank': '5', 'suit': 'Spades', 'value': 5}, {'rank': '6', 'suit': 'Spades', 'value': 6}, {'rank': '7', 'suit': 'Spades', 'value': 7}, {'rank': '8', 'suit': 'Spades', 'value': 8}, {'rank': '9', 'suit': 'Spades', 'value': 9}, {'rank': '10', 'suit': 'Spades', 'value': 10}, {'rank': 'Jack', 'suit': 'Spades', 'value': 11}, {'rank': 'Queen', 'suit': 'Spades', 'value': 12}, {'rank': 'King', 'suit': 'Spades', 'value': 13}, {'rank': 'Ace', 'suit': 'Hearts', 'value': 1}, {'rank': '2', 'suit': 'Hearts', 'value': 2}, {'rank': '3', 'suit': 'Hearts', 'value': 3}, {'rank': '4', 'suit': 'Hearts', 'value': 4}, {'rank': '5', 'suit': 'Hearts', 'value': 5}, {'rank': '6', 'suit': 'Hearts', 'value': 6}, {'rank': '7', 'suit': 'Hearts', 'value': 7}, {'rank': '8', 'suit': 'Hearts', 'value': 8}, {'rank': '9', 'suit': 'Hearts', 'value': 9}, {'rank': '10', 'suit': 'Hearts', 'value': 10}, {'rank': 'Jack', 'suit': 'Hearts', 'value': 11}, {'rank': 'Queen', 'suit': 'Hearts', 'value': 12}, {'rank': 'King', 'suit': 'Hearts', 'value': 13}, {'rank': 'Ace', 'suit': 'Clubs', 'value': 1}, {'rank': '2', 'suit': 'Clubs', 'value': 2}, {'rank': '3', 'suit': 'Clubs', 'value': 3}, {'rank': '4', 'suit': 'Clubs', 'value': 4}, {'rank': '5', 'suit': 'Clubs', 'value': 5}, {'rank': '6', 'suit': 'Clubs', 'value': 6}, {'rank': '7', 'suit': 'Clubs', 'value': 7}, {'rank': '8', 'suit': 'Clubs', 'value': 8}, {'rank': '9', 'suit': 'Clubs', 'value': 9}, {'rank': '10', 'suit': 'Clubs', 'value': 10}, {'rank': 'Jack', 'suit': 'Clubs', 'value': 11}, {'rank': 'Queen', 'suit': 'Clubs', 'value': 12}, {'rank': 'King', 'suit': 'Clubs', 'value': 13}, {'rank': 'Ace', 'suit': 'Diamonds', 'value': 1}, {'rank': '2', 'suit': 'Diamonds', 'value': 2}, {'rank': '3', 'suit': 'Diamonds', 'value': 3}, {'rank': '4', 'suit': 'Diamonds', 'value': 4}, {'rank': '5', 'suit': 'Diamonds', 'value': 5}, {'rank': '6', 'suit': 'Diamonds', 'value': 6}, {'rank': '7', 'suit': 'Diamonds', 'value': 7}, {'rank': '8', 'suit': 'Diamonds', 'value': 8}, {'rank': '9', 'suit': 'Diamonds', 'value': 9}, {'rank': '10', 'suit': 'Diamonds', 'value': 10}, {'rank': 'Jack', 'suit': 'Diamonds', 'value': 11}, {'rank': 'Queen', 'suit': 'Diamonds', 'value': 12}, {'rank': 'King', 'suit': 'Diamonds', 'value': 13}]\n"
     ]
    }
   ],
   "source": [
    "\n",
    "#Card constans\n",
    "\n",
    "SUIT_TUPLE = ('Spades', 'Hearts','Clubs','Diamonds')\n",
    "RANK_TUPLE = ('Ace', '2', '3', '4', '5', '6', '7', '8', '9', '10', 'Jack', 'Queen', 'King')\n",
    "\n",
    "NCARDS = 8\n",
    "\n",
    "# Pass in a deck and this function returns a random card from the deck\n",
    "def getCard(deckListIn):\n",
    "    thisCard = deckListIn.pop()\n",
    "    return thisCard\n",
    "\n",
    "# Pass in a deck and this function returns a shuffled copy of the deck\n",
    "def shuffle(deckListIn):\n",
    "    deckListOut = deckListIn.copy()\n",
    "    random.shuffle(deckListOut)\n",
    "    return deckListOut\n",
    "\n",
    "\n",
    "\n",
    "# Main code\n",
    "print('Welcome to Higher or Lower')\n",
    "print('You have to choose whether the next card to be shown will be hgiher or lower than the current card.')\n",
    "print('Getting ir right adds 20 points; get it wrong and you lose 15 points.')\n",
    "print('You have 50 points to start.')\n",
    "print()\n",
    "\n",
    "startingDeckList = []\n",
    "\n",
    "for suit in SUIT_TUPLE:\n",
    "    for thisValue, rank in enumerate(RANK_TUPLE):\n",
    "        cardDict = {'rank': rank, 'suit':suit, 'value':thisValue+1}\n",
    "        startingDeckList.append(cardDict)\n",
    "        \n",
    "score = 50\n",
    "\n",
    "print(startingDeckList)"
   ]
  },
  {
   "cell_type": "code",
   "execution_count": null,
   "metadata": {},
   "outputs": [],
   "source": []
  }
 ],
 "metadata": {
  "kernelspec": {
   "display_name": "Python 3",
   "language": "python",
   "name": "python3"
  },
  "language_info": {
   "codemirror_mode": {
    "name": "ipython",
    "version": 3
   },
   "file_extension": ".py",
   "mimetype": "text/x-python",
   "name": "python",
   "nbconvert_exporter": "python",
   "pygments_lexer": "ipython3",
   "version": "3.8.3"
  }
 },
 "nbformat": 4,
 "nbformat_minor": 4
}
