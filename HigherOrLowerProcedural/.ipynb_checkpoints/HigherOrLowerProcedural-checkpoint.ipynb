{
 "cells": [
  {
   "cell_type": "code",
   "execution_count": null,
   "metadata": {},
   "outputs": [],
   "source": [
    "import random"
   ]
  },
  {
   "cell_type": "code",
   "execution_count": null,
   "metadata": {},
   "outputs": [],
   "source": [
    "\n",
    "#Card constans\n",
    "\n",
    "SUIT_TUPLE = ('Spades', 'Hearts','Clubs','Diamonds')\n",
    "RANK_TUPLE = ('Ace', '2', '3', '4', '5', '6', '7', '8', '9', '10', 'Jack', 'Queen', 'King')\n",
    "\n",
    "NCARDS = 8\n",
    "\n",
    "# Pass in a deck and this function returns a random card from the deck\n",
    "def getCard(deckListIn):\n",
    "    thisCard = deckListIn.pop()\n",
    "    return thisCard\n",
    "\n",
    "# Pass in a deck and this function returns a shuffled copy of the deck\n",
    "def shuffle(deckListIn):\n",
    "    deckListOut = deckListIn.copy()\n",
    "    random.shuffle(deckListOut)\n",
    "    return deckListOut\n",
    "\n",
    "\n",
    "\n",
    "# Main code\n",
    "print('Welcome to Higher or Lower')\n",
    "print('You have to choose whether the next card to be shown will be hgiher or lower than the current card.')\n",
    "print('Getting ir right adds 20 points; get it wrong and you lose 15 points.')\n",
    "print('You have 50 points to start.')\n",
    "print()\n",
    "\n",
    "startingDeckList = []\n",
    "\n",
    "for suit in SUIT_TUPLE:\n",
    "    for thisValue, rank in enumerate(RANK_TUPLE):\n",
    "        cardDict = {'rank': rank, 'suit':suit, 'value':thisValue+1}\n",
    "        startingDeckList.append(cardDict)\n",
    "        \n",
    "score = 50\n",
    "\n",
    "while True:\n",
    "    print()\n",
    "    gameDeckList = shuffle(startingDeckList)\n",
    "    currentCardDict = getCard(gameDeckList)\n",
    "    currentCardRank = currentCardDict['rank']\n",
    "    currentCardSuit = currentCardDict['suit']\n",
    "    currentCardValue = currentCardDict['value']\n",
    "    \n",
    "    print('Starting card is:', currentCardRank + ' of ' + currentCardSuit)\n",
    "    print()\n",
    "    \n",
    "    for cardNumber in range(0, NCARDS):\n",
    "        answer = input('Will the next card be higher or lowre than the ' + currentCardRank + ' of ' + currentCardSuit + '? (enter h or l): ')    "
   ]
  },
  {
   "cell_type": "code",
   "execution_count": null,
   "metadata": {},
   "outputs": [],
   "source": []
  }
 ],
 "metadata": {
  "kernelspec": {
   "display_name": "Python 3",
   "language": "python",
   "name": "python3"
  },
  "language_info": {
   "codemirror_mode": {
    "name": "ipython",
    "version": 3
   },
   "file_extension": ".py",
   "mimetype": "text/x-python",
   "name": "python",
   "nbconvert_exporter": "python",
   "pygments_lexer": "ipython3",
   "version": "3.8.3"
  }
 },
 "nbformat": 4,
 "nbformat_minor": 4
}
