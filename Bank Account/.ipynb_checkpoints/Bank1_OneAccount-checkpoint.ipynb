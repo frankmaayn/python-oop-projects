{
 "cells": [
  {
   "cell_type": "code",
   "execution_count": 1,
   "metadata": {},
   "outputs": [],
   "source": [
    "accountName = 'Joe'\n",
    "accountBalance = 100\n",
    "accountPassword = 'soup'"
   ]
  },
  {
   "cell_type": "code",
   "execution_count": null,
   "metadata": {},
   "outputs": [],
   "source": [
    "while True:\n",
    "    print()\n",
    "    print('---- Menu ----')\n",
    "    print('Press b to get the balance')\n",
    "    print('Press d to make a deposit')\n",
    "    print('Press w to make a withdrawal')\n",
    "    print('Press s to show account')\n",
    "    print('Press q to quit')\n",
    "    print()\n",
    "    \n",
    "    action = input('What would you like to do? ')\n",
    "    \n",
    "    if action == 'b':\n",
    "        print()\n",
    "        print('----Get Balance----')\n",
    "        userPassword = input('What is the password?')\n",
    "        if userPassword != accountPassword:\n",
    "            print('You entered the wrong password!')\n",
    "        else:\n",
    "            print('The balance of your account is: ', accountBalance)\n",
    "        \n",
    "    elif action == 'd':\n",
    "        print()\n",
    "        print('----Depositing to account----')\n",
    "        userDeposit = input('Enter a balance.')\n",
    "        userDeposit = int(userDeposit)\n",
    "    \n",
    "        userPassword = input('What is the password?')\n",
    "    \n",
    "        if userDeposit < 0:\n",
    "            print('You cannot deposit a negative balance!')\n",
    "        elif userPassword != accountPassword:\n",
    "            print('You entered the wrong password!')\n",
    "        else:\n",
    "            accountBalance = accountBalance + userDeposit\n",
    "            print('Your new balance is ', accountBalanace)\n",
    "    \n",
    "    elif action =='w':\n",
    "        print()\n",
    "        print('----Withdrawing from account----')\n",
    "        userWithdraw = input('Enter the withdrawal amount.')\n",
    "        userWithdraw = int(userWithdraw)\n",
    "        \n",
    "        userPassword = input('What is the password?')\n",
    "    \n",
    "        if userWithdraw < 0:\n",
    "            print('You cannot withdraw a negative balance!')\n",
    "        elif userWithdraw > accountBalance:\n",
    "            print('You do not have enough cash in your account.')\n",
    "        elif userPassword != accountPassword:\n",
    "            print('You entered the wrong password!')\n",
    "        else:\n",
    "            accountBalance = accountBalance - userWithdraw\n",
    "            print('Your new balance is ', accountBalanace)\n",
    "            \n",
    "    elif action == 's':\n",
    "        print('Account:')\n",
    "        print('        Name: ', accountName)\n",
    "        print('        Balance: ', accountBalance)\n",
    "        print('        Password: ', accountPassword)\n",
    "    \n",
    "    elif action == 'q':\n",
    "        break\n",
    "        \n",
    "    else:\n",
    "        print('----Invalid command! Please try again----')\n",
    "        print()\n",
    "\n",
    "\n",
    "print('Thank you! See you again soon!')"
   ]
  },
  {
   "cell_type": "code",
   "execution_count": null,
   "metadata": {},
   "outputs": [],
   "source": [
    "\n",
    "        "
   ]
  },
  {
   "cell_type": "code",
   "execution_count": null,
   "metadata": {},
   "outputs": [],
   "source": []
  }
 ],
 "metadata": {
  "kernelspec": {
   "display_name": "Python 3",
   "language": "python",
   "name": "python3"
  },
  "language_info": {
   "codemirror_mode": {
    "name": "ipython",
    "version": 3
   },
   "file_extension": ".py",
   "mimetype": "text/x-python",
   "name": "python",
   "nbconvert_exporter": "python",
   "pygments_lexer": "ipython3",
   "version": "3.8.3"
  }
 },
 "nbformat": 4,
 "nbformat_minor": 4
}
